{
 "cells": [
  {
   "cell_type": "markdown",
   "metadata": {
    "id": "RhEdWd9YUR6H"
   },
   "source": [
    "### Importação dos dados\n",
    "\n"
   ]
  },
  {
   "cell_type": "code",
   "execution_count": 1,
   "metadata": {
    "colab": {
     "base_uri": "https://localhost:8080/",
     "height": 206
    },
    "id": "T3EvaeQ_INIL",
    "outputId": "7194bc65-372c-47e6-cb47-d4bfc9952c91"
   },
   "outputs": [
    {
     "data": {
      "text/html": [
       "<div>\n",
       "<style scoped>\n",
       "    .dataframe tbody tr th:only-of-type {\n",
       "        vertical-align: middle;\n",
       "    }\n",
       "\n",
       "    .dataframe tbody tr th {\n",
       "        vertical-align: top;\n",
       "    }\n",
       "\n",
       "    .dataframe thead th {\n",
       "        text-align: right;\n",
       "    }\n",
       "</style>\n",
       "<table border=\"1\" class=\"dataframe\">\n",
       "  <thead>\n",
       "    <tr style=\"text-align: right;\">\n",
       "      <th></th>\n",
       "      <th>Produto</th>\n",
       "      <th>Categoria do Produto</th>\n",
       "      <th>Preço</th>\n",
       "      <th>Frete</th>\n",
       "      <th>Data da Compra</th>\n",
       "      <th>Vendedor</th>\n",
       "      <th>Local da compra</th>\n",
       "      <th>Avaliação da compra</th>\n",
       "      <th>Tipo de pagamento</th>\n",
       "      <th>Quantidade de parcelas</th>\n",
       "      <th>lat</th>\n",
       "      <th>lon</th>\n",
       "    </tr>\n",
       "  </thead>\n",
       "  <tbody>\n",
       "    <tr>\n",
       "      <th>0</th>\n",
       "      <td>Cadeira de escritório</td>\n",
       "      <td>moveis</td>\n",
       "      <td>378.20</td>\n",
       "      <td>20.421138</td>\n",
       "      <td>04/08/2021</td>\n",
       "      <td>Thiago Silva</td>\n",
       "      <td>MG</td>\n",
       "      <td>1</td>\n",
       "      <td>boleto</td>\n",
       "      <td>1</td>\n",
       "      <td>-18.10</td>\n",
       "      <td>-44.38</td>\n",
       "    </tr>\n",
       "    <tr>\n",
       "      <th>1</th>\n",
       "      <td>Pandeiro</td>\n",
       "      <td>instrumentos musicais</td>\n",
       "      <td>102.37</td>\n",
       "      <td>3.035334</td>\n",
       "      <td>26/11/2020</td>\n",
       "      <td>Bianca Santos</td>\n",
       "      <td>RJ</td>\n",
       "      <td>3</td>\n",
       "      <td>cartao_credito</td>\n",
       "      <td>4</td>\n",
       "      <td>-22.25</td>\n",
       "      <td>-42.66</td>\n",
       "    </tr>\n",
       "    <tr>\n",
       "      <th>2</th>\n",
       "      <td>Cama king</td>\n",
       "      <td>moveis</td>\n",
       "      <td>591.13</td>\n",
       "      <td>31.759020</td>\n",
       "      <td>22/10/2021</td>\n",
       "      <td>Thiago Silva</td>\n",
       "      <td>SC</td>\n",
       "      <td>5</td>\n",
       "      <td>cartao_credito</td>\n",
       "      <td>10</td>\n",
       "      <td>-27.45</td>\n",
       "      <td>-50.95</td>\n",
       "    </tr>\n",
       "    <tr>\n",
       "      <th>3</th>\n",
       "      <td>Cama king</td>\n",
       "      <td>moveis</td>\n",
       "      <td>1208.24</td>\n",
       "      <td>61.919584</td>\n",
       "      <td>04/05/2022</td>\n",
       "      <td>Larissa Alves</td>\n",
       "      <td>RS</td>\n",
       "      <td>5</td>\n",
       "      <td>cartao_credito</td>\n",
       "      <td>10</td>\n",
       "      <td>-30.17</td>\n",
       "      <td>-53.50</td>\n",
       "    </tr>\n",
       "    <tr>\n",
       "      <th>4</th>\n",
       "      <td>Cadeira de escritório</td>\n",
       "      <td>moveis</td>\n",
       "      <td>530.41</td>\n",
       "      <td>25.827176</td>\n",
       "      <td>26/02/2022</td>\n",
       "      <td>Lucas Oliveira</td>\n",
       "      <td>SP</td>\n",
       "      <td>4</td>\n",
       "      <td>cartao_credito</td>\n",
       "      <td>3</td>\n",
       "      <td>-22.19</td>\n",
       "      <td>-48.79</td>\n",
       "    </tr>\n",
       "  </tbody>\n",
       "</table>\n",
       "</div>"
      ],
      "text/plain": [
       "                 Produto   Categoria do Produto    Preço      Frete  \\\n",
       "0  Cadeira de escritório                 moveis   378.20  20.421138   \n",
       "1               Pandeiro  instrumentos musicais   102.37   3.035334   \n",
       "2              Cama king                 moveis   591.13  31.759020   \n",
       "3              Cama king                 moveis  1208.24  61.919584   \n",
       "4  Cadeira de escritório                 moveis   530.41  25.827176   \n",
       "\n",
       "  Data da Compra        Vendedor Local da compra  Avaliação da compra  \\\n",
       "0     04/08/2021    Thiago Silva              MG                    1   \n",
       "1     26/11/2020   Bianca Santos              RJ                    3   \n",
       "2     22/10/2021    Thiago Silva              SC                    5   \n",
       "3     04/05/2022   Larissa Alves              RS                    5   \n",
       "4     26/02/2022  Lucas Oliveira              SP                    4   \n",
       "\n",
       "  Tipo de pagamento  Quantidade de parcelas    lat    lon  \n",
       "0            boleto                       1 -18.10 -44.38  \n",
       "1    cartao_credito                       4 -22.25 -42.66  \n",
       "2    cartao_credito                      10 -27.45 -50.95  \n",
       "3    cartao_credito                      10 -30.17 -53.50  \n",
       "4    cartao_credito                       3 -22.19 -48.79  "
      ]
     },
     "execution_count": 1,
     "metadata": {},
     "output_type": "execute_result"
    }
   ],
   "source": [
    "import pandas as pd\n",
    "\n",
    "l1 = \"Lojas/loja_1.csv\"\n",
    "l2 = \"Lojas/loja_2.csv\"\n",
    "l3 = \"Lojas/loja_3.csv\"\n",
    "l4 = \"Lojas/loja_4.csv\"\n",
    "\n",
    "loja1 = pd.read_csv(l1)\n",
    "loja2 = pd.read_csv(l2)\n",
    "loja3 = pd.read_csv(l3)\n",
    "loja4 = pd.read_csv(l4)\n",
    "\n",
    "loja2.head()"
   ]
  },
  {
   "cell_type": "markdown",
   "metadata": {
    "id": "X62IW3KFUIYm"
   },
   "source": [
    "#1. Análise do faturamento\n"
   ]
  },
  {
   "cell_type": "code",
   "execution_count": 7,
   "metadata": {
    "id": "xykobSftV64I"
   },
   "outputs": [
    {
     "name": "stdout",
     "output_type": "stream",
     "text": [
      "Faturamento: Loja 1 - R$ 1,534,509.12 Loja 2 - R$ 1,488,459.06 Loja 3 - R$ 1,464,025.03 Loja 4 - R$ 1,384,497.58\n"
     ]
    }
   ],
   "source": [
    "loja1_faturamento = loja1[\"Preço\"].sum().item()\n",
    "loja2_faturamento = loja2[\"Preço\"].sum().item()\n",
    "loja3_faturamento = loja3[\"Preço\"].sum().item()\n",
    "loja4_faturamento = loja4[\"Preço\"].sum().item()\n",
    "print(f\"Faturamento: Loja 1 - R$ {loja1_faturamento:,.2f} Loja 2 - R$ {loja2_faturamento:,.2f} Loja 3 - R$ {loja3_faturamento:,.2f} Loja 4 - R$ {loja4_faturamento:,.2f}\")"
   ]
  },
  {
   "cell_type": "code",
   "execution_count": 8,
   "metadata": {
    "id": "KDyr8E71V3m-"
   },
   "outputs": [
    {
     "name": "stdout",
     "output_type": "stream",
     "text": [
      "Faturamento total: R$: 5,871,490.79\n"
     ]
    }
   ],
   "source": [
    "faturamento_total = loja1_faturamento + loja2_faturamento + loja3_faturamento + loja4_faturamento\n",
    "print(f\"Faturamento total: R$: {faturamento_total:,.2f}\")"
   ]
  },
  {
   "cell_type": "markdown",
   "metadata": {
    "id": "2V_vcAPzWZmR"
   },
   "source": [
    "# 2. Vendas por Categoria\n"
   ]
  },
  {
   "cell_type": "code",
   "execution_count": 45,
   "metadata": {
    "id": "A34YupIuYhfF"
   },
   "outputs": [
    {
     "data": {
      "text/html": [
       "<div>\n",
       "<style scoped>\n",
       "    .dataframe tbody tr th:only-of-type {\n",
       "        vertical-align: middle;\n",
       "    }\n",
       "\n",
       "    .dataframe tbody tr th {\n",
       "        vertical-align: top;\n",
       "    }\n",
       "\n",
       "    .dataframe thead th {\n",
       "        text-align: right;\n",
       "    }\n",
       "</style>\n",
       "<table border=\"1\" class=\"dataframe\">\n",
       "  <thead>\n",
       "    <tr style=\"text-align: right;\">\n",
       "      <th></th>\n",
       "      <th>Categoria do Produto</th>\n",
       "      <th>Quantidade</th>\n",
       "    </tr>\n",
       "  </thead>\n",
       "  <tbody>\n",
       "    <tr>\n",
       "      <th>0</th>\n",
       "      <td>brinquedos</td>\n",
       "      <td>315</td>\n",
       "    </tr>\n",
       "    <tr>\n",
       "      <th>1</th>\n",
       "      <td>eletrodomesticos</td>\n",
       "      <td>278</td>\n",
       "    </tr>\n",
       "    <tr>\n",
       "      <th>2</th>\n",
       "      <td>eletronicos</td>\n",
       "      <td>451</td>\n",
       "    </tr>\n",
       "    <tr>\n",
       "      <th>3</th>\n",
       "      <td>esporte e lazer</td>\n",
       "      <td>277</td>\n",
       "    </tr>\n",
       "    <tr>\n",
       "      <th>4</th>\n",
       "      <td>instrumentos musicais</td>\n",
       "      <td>177</td>\n",
       "    </tr>\n",
       "    <tr>\n",
       "      <th>5</th>\n",
       "      <td>livros</td>\n",
       "      <td>185</td>\n",
       "    </tr>\n",
       "    <tr>\n",
       "      <th>6</th>\n",
       "      <td>moveis</td>\n",
       "      <td>499</td>\n",
       "    </tr>\n",
       "    <tr>\n",
       "      <th>7</th>\n",
       "      <td>utilidades domesticas</td>\n",
       "      <td>177</td>\n",
       "    </tr>\n",
       "  </tbody>\n",
       "</table>\n",
       "</div>"
      ],
      "text/plain": [
       "    Categoria do Produto  Quantidade\n",
       "0             brinquedos         315\n",
       "1       eletrodomesticos         278\n",
       "2            eletronicos         451\n",
       "3        esporte e lazer         277\n",
       "4  instrumentos musicais         177\n",
       "5                 livros         185\n",
       "6                 moveis         499\n",
       "7  utilidades domesticas         177"
      ]
     },
     "execution_count": 45,
     "metadata": {},
     "output_type": "execute_result"
    }
   ],
   "source": [
    "categoria1 = (\n",
    "    loja1.groupby(\"Categoria do Produto\")[\"Produto\"]\n",
    "    .count()\n",
    "    .reset_index(name=\"Quantidade\")\n",
    ")\n",
    "\n",
    "categoria2 = (\n",
    "    loja2.groupby(\"Categoria do Produto\")[\"Produto\"]\n",
    "    .count()\n",
    "    .reset_index(name=\"Quantidade\")\n",
    ")\n",
    "\n",
    "categoria3 = (\n",
    "    loja3.groupby(\"Categoria do Produto\")[\"Produto\"]\n",
    "    .count()\n",
    "    .reset_index(name=\"Quantidade\")\n",
    ")\n",
    "\n",
    "categoria4 = (\n",
    "    loja4.groupby(\"Categoria do Produto\")[\"Produto\"]\n",
    "    .count()\n",
    "    .reset_index(name=\"Quantidade\")\n",
    ")\n",
    "categoria3"
   ]
  },
  {
   "cell_type": "markdown",
   "metadata": {
    "id": "Rq6tU_xSY3jk"
   },
   "source": [
    "# 3. Média de Avaliação das Lojas"
   ]
  },
  {
   "cell_type": "code",
   "execution_count": 53,
   "metadata": {
    "id": "bh3jjjJwY5MU"
   },
   "outputs": [
    {
     "name": "stdout",
     "output_type": "stream",
     "text": [
      "Loja 1 - 3.98, Loja 2 - 4.04, Loja 3 - 4.05, Loja 4 - 4.0\n"
     ]
    }
   ],
   "source": [
    "avaliacao1 = loja1[\"Avaliação da compra\"].mean().item()\n",
    "avaliacao2 = loja2[\"Avaliação da compra\"].mean().item()\n",
    "avaliacao3 = loja3[\"Avaliação da compra\"].mean().item()\n",
    "avaliacao4 = loja4[\"Avaliação da compra\"].mean().item()\n",
    "\n",
    "print(f\"Loja 1 - {round(avaliacao1, 2)}, Loja 2 - {round(avaliacao2, 2)}, Loja 3 - {round(avaliacao3, 2)}, Loja 4 - {round(avaliacao4, 2)}\")\n"
   ]
  },
  {
   "cell_type": "markdown",
   "metadata": {
    "id": "DmNp1KPBZCm-"
   },
   "source": [
    "# 4. Produtos Mais e Menos Vendidos"
   ]
  },
  {
   "cell_type": "code",
   "execution_count": null,
   "metadata": {
    "id": "qoyjqijQZHfF"
   },
   "outputs": [],
   "source": []
  },
  {
   "cell_type": "code",
   "execution_count": null,
   "metadata": {
    "id": "0Sw3sd4IZIGW"
   },
   "outputs": [],
   "source": []
  },
  {
   "cell_type": "markdown",
   "metadata": {
    "id": "Fl0cGi3bZKqU"
   },
   "source": [
    "# 5. Frete Médio por Loja\n"
   ]
  },
  {
   "cell_type": "code",
   "execution_count": null,
   "metadata": {
    "id": "S2JeaCykZNy9"
   },
   "outputs": [],
   "source": []
  },
  {
   "cell_type": "code",
   "execution_count": null,
   "metadata": {
    "id": "0tSdCie9ZQlt"
   },
   "outputs": [],
   "source": []
  }
 ],
 "metadata": {
  "colab": {
   "provenance": []
  },
  "kernelspec": {
   "display_name": "Python 3 (ipykernel)",
   "language": "python",
   "name": "python3"
  },
  "language_info": {
   "codemirror_mode": {
    "name": "ipython",
    "version": 3
   },
   "file_extension": ".py",
   "mimetype": "text/x-python",
   "name": "python",
   "nbconvert_exporter": "python",
   "pygments_lexer": "ipython3",
   "version": "3.13.2"
  }
 },
 "nbformat": 4,
 "nbformat_minor": 4
}
